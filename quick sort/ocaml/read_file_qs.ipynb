{
 "cells": [
  {
   "cell_type": "code",
   "execution_count": 1,
   "metadata": {},
   "outputs": [],
   "source": [
    "import re\n",
    "import numpy as np\n",
    "import matplotlib.pyplot as plt\n",
    "\n",
    "import pandas as pd \n",
    "\n",
    "pattern1 = 'real\\t'\n",
    "pattern2 = 'user\\t'\n",
    "pattern3 = 'sys\\t'\n",
    "\n",
    "\n",
    "\n",
    "f=open(\"output1.txt\")\n",
    "f1 =f.readlines()\n",
    "real=[]\n",
    "user=[]\n",
    "sys=[]\n",
    "for x in f1:\n",
    "    if re.match(pattern1, x):\n",
    "        t1=x.replace('real\\t', '').replace('s', '')\n",
    "        t2=t1.split(\"m\")\n",
    "        minutes=float(t2[0])\n",
    "        seconds=float(t2[1])\n",
    "        real.append( minutes*60 + seconds)\n",
    "        \n",
    "        \n",
    "    if re.match(pattern2, x):\n",
    "        t1=x.replace('user\\t', '').replace('s', '')\n",
    "        t2=t1.split(\"m\")\n",
    "        minutes=float(t2[0])\n",
    "        seconds=float(t2[1])\n",
    "        user.append( minutes*60 + seconds)\n",
    "        \n",
    "    if re.match(pattern3, x):\n",
    "        t1=x.replace('sys\\t', '').replace('s', '')\n",
    "        t2=t1.split(\"m\")\n",
    "        minutes=float(t2[0])\n",
    "        seconds=float(t2[1])\n",
    "        sys.append( minutes*60 + seconds)\n",
    "        \n",
    "        \n",
    "f=open(\"output2.txt\")\n",
    "f1 =f.readlines()\n",
    "real2=[]\n",
    "user2=[]\n",
    "sys2=[]\n",
    "for x in f1:\n",
    "    if re.match(pattern1, x):\n",
    "        t1=x.replace('real\\t', '').replace('s', '')\n",
    "        t2=t1.split(\"m\")\n",
    "        minutes=float(t2[0])\n",
    "        seconds=float(t2[1])\n",
    "        real2.append( minutes*60 + seconds)\n",
    "        \n",
    "        \n",
    "    if re.match(pattern2, x):\n",
    "        t1=x.replace('user\\t', '').replace('s', '')\n",
    "        t2=t1.split(\"m\")\n",
    "        minutes=float(t2[0])\n",
    "        seconds=float(t2[1])\n",
    "        user2.append( minutes*60 + seconds)\n",
    "        \n",
    "    if re.match(pattern3, x):\n",
    "        t1=x.replace('sys\\t', '').replace('s', '')\n",
    "        t2=t1.split(\"m\")\n",
    "        minutes=float(t2[0])\n",
    "        seconds=float(t2[1])\n",
    "        sys2.append( minutes*60 + seconds)"
   ]
  },
  {
   "cell_type": "code",
   "execution_count": 2,
   "metadata": {},
   "outputs": [
    {
     "data": {
      "image/png": "[encoded data removed]",
      "text/plain": [
       "<Figure size 432x288 with 1 Axes>"
      ]
     },
     "metadata": {},
     "output_type": "display_data"
    }
   ],
   "source": [
    "x = np.arange(len(user)) \n",
    "user_p=[i * 0.25 for i in user]\n",
    "\n",
    "\n",
    "# user2_p=[i * 0.5 for i in user2]\n",
    "plt.plot(x, user_p)\n",
    "plt.plot(x, user2)\n",
    "\n",
    "plt.show()\n"
   ]
  },
  {
   "cell_type": "code",
   "execution_count": null,
   "metadata": {},
   "outputs": [],
   "source": []
  }
 ],
 "metadata": {
  "kernelspec": {
   "display_name": "Python 3",
   "language": "python",
   "name": "python3"
  },
  "language_info": {
   "codemirror_mode": {
    "name": "ipython",
    "version": 3
   },
   "file_extension": ".py",
   "mimetype": "text/x-python",
   "name": "python",
   "nbconvert_exporter": "python",
   "pygments_lexer": "ipython3",
   "version": "3.6.5"
  }
 },
 "nbformat": 4,
 "nbformat_minor": 2
}
