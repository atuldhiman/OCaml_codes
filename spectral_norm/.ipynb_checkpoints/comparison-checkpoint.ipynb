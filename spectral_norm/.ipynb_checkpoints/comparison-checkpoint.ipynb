{
 "cells": [
  {
   "cell_type": "code",
   "execution_count": 2,
   "metadata": {},
   "outputs": [],
   "source": [
    "import re\n",
    "import numpy as np\n",
    "import matplotlib.pyplot as plt\n",
    "\n",
    "import pandas as pd \n",
    "\n",
    "\n",
    "\n",
    "\n",
    "def reader(fname):\n",
    "    pattern1 = 'real\\t'\n",
    "    pattern2 = 'user\\t'\n",
    "    pattern3 = 'sys\\t'\n",
    "    f=open(fname)\n",
    "    f1 =f.readlines()\n",
    "    real=[]\n",
    "    user=[]\n",
    "    sys=[]\n",
    "    for x in f1:\n",
    "        if re.match(pattern1, x):\n",
    "            t1=x.replace('real\\t', '').replace('s', '')\n",
    "            t2=t1.split(\"m\")\n",
    "            minutes=float(t2[0])\n",
    "            seconds=float(t2[1])\n",
    "            real.append( minutes*60 + seconds)\n",
    "\n",
    "\n",
    "        if re.match(pattern2, x):\n",
    "            t1=x.replace('user\\t', '').replace('s', '')\n",
    "            t2=t1.split(\"m\")\n",
    "            minutes=float(t2[0])\n",
    "            seconds=float(t2[1])\n",
    "            user.append( minutes*60 + seconds)\n",
    "\n",
    "        if re.match(pattern3, x):\n",
    "            t1=x.replace('sys\\t', '').replace('s', '')\n",
    "            t2=t1.split(\"m\")\n",
    "            minutes=float(t2[0])\n",
    "            seconds=float(t2[1])\n",
    "            sys.append( minutes*60 + seconds)\n",
    "    return real,user,sys"
   ]
  },
  {
   "cell_type": "code",
   "execution_count": null,
   "metadata": {},
   "outputs": [],
   "source": [
    "real1,user1,sys1=reader(\"output1_p.txt\")\n",
    "real2,user2,sys2=reader(\"output2.txt\")\n",
    "real3,user3,sys3=reader(\"output3_p.txt\")\n",
    "real4,user4,sys4=reader(\"output4.txt\")\n",
    "\n",
    "x = np.arange(len(user1))\n",
    "\n",
    "user_1=[i * 0.25 for i in user1]\n",
    "user_3=[i * 0.25 for i in user3]\n",
    "\n",
    "plt.plot(x, user_1, color=\"blue\")\n",
    "plt.plot(x, user2, color='purple')\n",
    "plt.plot(x, user_3, color=\"red\")\n",
    "plt.plot(x, user4, color=\"orange\")\n",
    "\n",
    "plt.show()"
   ]
  }
 ],
 "metadata": {
  "kernelspec": {
   "display_name": "Python 3",
   "language": "python",
   "name": "python3"
  },
  "language_info": {
   "codemirror_mode": {
    "name": "ipython",
    "version": 3
   },
   "file_extension": ".py",
   "mimetype": "text/x-python",
   "name": "python",
   "nbconvert_exporter": "python",
   "pygments_lexer": "ipython3",
   "version": "3.6.5"
  }
 },
 "nbformat": 4,
 "nbformat_minor": 2
}
